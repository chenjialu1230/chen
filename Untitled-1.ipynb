{
 "cells": [
  {
   "cell_type": "code",
   "execution_count": 16,
   "metadata": {},
   "outputs": [
    {
     "name": "stdout",
     "output_type": "stream",
     "text": [
      "hello\n"
     ]
    }
   ],
   "source": [
    "print('hello')"
   ]
  },
  {
   "cell_type": "code",
   "execution_count": 17,
   "metadata": {},
   "outputs": [
    {
     "name": "stdout",
     "output_type": "stream",
     "text": [
      "going to die\n"
     ]
    }
   ],
   "source": [
    "print('going to die')"
   ]
  },
  {
   "cell_type": "code",
   "execution_count": 18,
   "metadata": {},
   "outputs": [
    {
     "data": {
      "text/plain": [
       "444"
      ]
     },
     "execution_count": 18,
     "metadata": {},
     "output_type": "execute_result"
    }
   ],
   "source": [
    "123+321"
   ]
  },
  {
   "cell_type": "code",
   "execution_count": 19,
   "metadata": {},
   "outputs": [],
   "source": [
    "import pandas as pd\n",
    "import numpy as np\n",
    "#设置列不限制数量\n",
    "pd.set_option('display.max_columns', None)"
   ]
  },
  {
   "cell_type": "code",
   "execution_count": 20,
   "metadata": {},
   "outputs": [],
   "source": [
    "data = pd.read_csv('D:/c-j-l-j-l-cc-1/1990.12.19-今股票上证指数数据.csv') # 这一句是导入CSV文件的命令"
   ]
  },
  {
   "cell_type": "code",
   "execution_count": 21,
   "metadata": {},
   "outputs": [],
   "source": [
    "from IPython.core.interactiveshell import InteractiveShell # jupyter运行输出的模块\n",
    "InteractiveShell.ast_node_interactivity = 'all'"
   ]
  },
  {
   "cell_type": "code",
   "execution_count": 22,
   "metadata": {},
   "outputs": [
    {
     "data": {
      "text/html": [
       "<div>\n",
       "<style scoped>\n",
       "    .dataframe tbody tr th:only-of-type {\n",
       "        vertical-align: middle;\n",
       "    }\n",
       "\n",
       "    .dataframe tbody tr th {\n",
       "        vertical-align: top;\n",
       "    }\n",
       "\n",
       "    .dataframe thead th {\n",
       "        text-align: right;\n",
       "    }\n",
       "</style>\n",
       "<table border=\"1\" class=\"dataframe\">\n",
       "  <thead>\n",
       "    <tr style=\"text-align: right;\">\n",
       "      <th></th>\n",
       "      <th>Day</th>\n",
       "      <th>Preclose</th>\n",
       "      <th>Open</th>\n",
       "      <th>Highest</th>\n",
       "      <th>Lowest</th>\n",
       "      <th>Close</th>\n",
       "      <th>Volume</th>\n",
       "      <th>Money</th>\n",
       "    </tr>\n",
       "  </thead>\n",
       "  <tbody>\n",
       "    <tr>\n",
       "      <th>0</th>\n",
       "      <td>1990/12/19</td>\n",
       "      <td></td>\n",
       "      <td>96.05</td>\n",
       "      <td>99.98</td>\n",
       "      <td>95.79</td>\n",
       "      <td>99.98</td>\n",
       "      <td>126000</td>\n",
       "      <td>4.940000e+05</td>\n",
       "    </tr>\n",
       "    <tr>\n",
       "      <th>1</th>\n",
       "      <td>1990/12/20</td>\n",
       "      <td>99.98</td>\n",
       "      <td>104.30</td>\n",
       "      <td>104.39</td>\n",
       "      <td>99.98</td>\n",
       "      <td>104.39</td>\n",
       "      <td>19700</td>\n",
       "      <td>8.400000e+04</td>\n",
       "    </tr>\n",
       "    <tr>\n",
       "      <th>2</th>\n",
       "      <td>1990/12/21</td>\n",
       "      <td>104.39</td>\n",
       "      <td>109.07</td>\n",
       "      <td>109.13</td>\n",
       "      <td>103.73</td>\n",
       "      <td>109.13</td>\n",
       "      <td>2800</td>\n",
       "      <td>1.600000e+04</td>\n",
       "    </tr>\n",
       "    <tr>\n",
       "      <th>3</th>\n",
       "      <td>1990/12/24</td>\n",
       "      <td>109.13</td>\n",
       "      <td>113.57</td>\n",
       "      <td>114.55</td>\n",
       "      <td>109.13</td>\n",
       "      <td>114.55</td>\n",
       "      <td>3200</td>\n",
       "      <td>3.100000e+04</td>\n",
       "    </tr>\n",
       "    <tr>\n",
       "      <th>4</th>\n",
       "      <td>1990/12/25</td>\n",
       "      <td>114.55</td>\n",
       "      <td>120.09</td>\n",
       "      <td>120.25</td>\n",
       "      <td>114.55</td>\n",
       "      <td>120.25</td>\n",
       "      <td>1500</td>\n",
       "      <td>6.000000e+03</td>\n",
       "    </tr>\n",
       "    <tr>\n",
       "      <th>...</th>\n",
       "      <td>...</td>\n",
       "      <td>...</td>\n",
       "      <td>...</td>\n",
       "      <td>...</td>\n",
       "      <td>...</td>\n",
       "      <td>...</td>\n",
       "      <td>...</td>\n",
       "      <td>...</td>\n",
       "    </tr>\n",
       "    <tr>\n",
       "      <th>7719</th>\n",
       "      <td>2022/7/25</td>\n",
       "      <td>3269.97</td>\n",
       "      <td>3269.71</td>\n",
       "      <td>3273.18</td>\n",
       "      <td>3243.03</td>\n",
       "      <td>3250.39</td>\n",
       "      <td>27124574400</td>\n",
       "      <td>3.480000e+11</td>\n",
       "    </tr>\n",
       "    <tr>\n",
       "      <th>7720</th>\n",
       "      <td>2022/7/26</td>\n",
       "      <td>3250.39</td>\n",
       "      <td>3254.19</td>\n",
       "      <td>3282.41</td>\n",
       "      <td>3246.04</td>\n",
       "      <td>3277.44</td>\n",
       "      <td>25946867600</td>\n",
       "      <td>3.340000e+11</td>\n",
       "    </tr>\n",
       "    <tr>\n",
       "      <th>7721</th>\n",
       "      <td>2022/7/27</td>\n",
       "      <td>3277.44</td>\n",
       "      <td>3271.78</td>\n",
       "      <td>3282.57</td>\n",
       "      <td>3265.73</td>\n",
       "      <td>3275.76</td>\n",
       "      <td>24913148500</td>\n",
       "      <td>3.400000e+11</td>\n",
       "    </tr>\n",
       "    <tr>\n",
       "      <th>7722</th>\n",
       "      <td>2022/7/28</td>\n",
       "      <td>3275.76</td>\n",
       "      <td>3287.50</td>\n",
       "      <td>3305.71</td>\n",
       "      <td>3277.11</td>\n",
       "      <td>3282.58</td>\n",
       "      <td>28805505600</td>\n",
       "      <td>3.960000e+11</td>\n",
       "    </tr>\n",
       "    <tr>\n",
       "      <th>7723</th>\n",
       "      <td>2022/7/29</td>\n",
       "      <td>3282.58</td>\n",
       "      <td>3282.81</td>\n",
       "      <td>3294.80</td>\n",
       "      <td>3246.37</td>\n",
       "      <td>3253.24</td>\n",
       "      <td>30733104700</td>\n",
       "      <td>4.110000e+11</td>\n",
       "    </tr>\n",
       "  </tbody>\n",
       "</table>\n",
       "<p>7724 rows × 8 columns</p>\n",
       "</div>"
      ],
      "text/plain": [
       "             Day  Preclose     Open  Highest   Lowest    Close       Volume  \\\n",
       "0     1990/12/19              96.05    99.98    95.79    99.98       126000   \n",
       "1     1990/12/20     99.98   104.30   104.39    99.98   104.39        19700   \n",
       "2     1990/12/21    104.39   109.07   109.13   103.73   109.13         2800   \n",
       "3     1990/12/24    109.13   113.57   114.55   109.13   114.55         3200   \n",
       "4     1990/12/25    114.55   120.09   120.25   114.55   120.25         1500   \n",
       "...          ...       ...      ...      ...      ...      ...          ...   \n",
       "7719   2022/7/25   3269.97  3269.71  3273.18  3243.03  3250.39  27124574400   \n",
       "7720   2022/7/26   3250.39  3254.19  3282.41  3246.04  3277.44  25946867600   \n",
       "7721   2022/7/27   3277.44  3271.78  3282.57  3265.73  3275.76  24913148500   \n",
       "7722   2022/7/28   3275.76  3287.50  3305.71  3277.11  3282.58  28805505600   \n",
       "7723   2022/7/29   3282.58  3282.81  3294.80  3246.37  3253.24  30733104700   \n",
       "\n",
       "             Money  \n",
       "0     4.940000e+05  \n",
       "1     8.400000e+04  \n",
       "2     1.600000e+04  \n",
       "3     3.100000e+04  \n",
       "4     6.000000e+03  \n",
       "...            ...  \n",
       "7719  3.480000e+11  \n",
       "7720  3.340000e+11  \n",
       "7721  3.400000e+11  \n",
       "7722  3.960000e+11  \n",
       "7723  4.110000e+11  \n",
       "\n",
       "[7724 rows x 8 columns]"
      ]
     },
     "execution_count": 22,
     "metadata": {},
     "output_type": "execute_result"
    },
    {
     "name": "stdout",
     "output_type": "stream",
     "text": [
      "             Day  Preclose     Open  Highest   Lowest    Close       Volume  \\\n",
      "0     1990/12/19              96.05    99.98    95.79    99.98       126000   \n",
      "1     1990/12/20     99.98   104.30   104.39    99.98   104.39        19700   \n",
      "2     1990/12/21    104.39   109.07   109.13   103.73   109.13         2800   \n",
      "3     1990/12/24    109.13   113.57   114.55   109.13   114.55         3200   \n",
      "4     1990/12/25    114.55   120.09   120.25   114.55   120.25         1500   \n",
      "...          ...       ...      ...      ...      ...      ...          ...   \n",
      "7719   2022/7/25   3269.97  3269.71  3273.18  3243.03  3250.39  27124574400   \n",
      "7720   2022/7/26   3250.39  3254.19  3282.41  3246.04  3277.44  25946867600   \n",
      "7721   2022/7/27   3277.44  3271.78  3282.57  3265.73  3275.76  24913148500   \n",
      "7722   2022/7/28   3275.76  3287.50  3305.71  3277.11  3282.58  28805505600   \n",
      "7723   2022/7/29   3282.58  3282.81  3294.80  3246.37  3253.24  30733104700   \n",
      "\n",
      "             Money  \n",
      "0     4.940000e+05  \n",
      "1     8.400000e+04  \n",
      "2     1.600000e+04  \n",
      "3     3.100000e+04  \n",
      "4     6.000000e+03  \n",
      "...            ...  \n",
      "7719  3.480000e+11  \n",
      "7720  3.340000e+11  \n",
      "7721  3.400000e+11  \n",
      "7722  3.960000e+11  \n",
      "7723  4.110000e+11  \n",
      "\n",
      "[7724 rows x 8 columns]\n"
     ]
    }
   ],
   "source": [
    "data = pd.read_csv('D:/c-j-l-j-l-cc-1/1990.12.19-今股票上证指数数据.csv') # 这一句是导入CSV文件的命令\n",
    "data\n",
    "print(data)"
   ]
  },
  {
   "cell_type": "code",
   "execution_count": 23,
   "metadata": {},
   "outputs": [
    {
     "data": {
      "text/plain": [
       "pandas.core.frame.DataFrame"
      ]
     },
     "execution_count": 23,
     "metadata": {},
     "output_type": "execute_result"
    }
   ],
   "source": [
    "type(data)"
   ]
  },
  {
   "cell_type": "code",
   "execution_count": 24,
   "metadata": {},
   "outputs": [
    {
     "name": "stdout",
     "output_type": "stream",
     "text": [
      "Index(['Day', 'Preclose', 'Open', 'Highest', 'Lowest', 'Close', 'Volume',\n",
      "       'Money'],\n",
      "      dtype='object')\n"
     ]
    }
   ],
   "source": [
    "print(data.columns)"
   ]
  },
  {
   "cell_type": "code",
   "execution_count": 25,
   "metadata": {},
   "outputs": [
    {
     "name": "stdout",
     "output_type": "stream",
     "text": [
      "['Day' 'Preclose' 'Open' 'Highest' 'Lowest' 'Close' 'Volume' 'Money']\n"
     ]
    }
   ],
   "source": [
    "print(data.columns.values)"
   ]
  },
  {
   "cell_type": "code",
   "execution_count": 26,
   "metadata": {},
   "outputs": [
    {
     "data": {
      "text/plain": [
       "0       1990/12/19\n",
       "1       1990/12/20\n",
       "2       1990/12/21\n",
       "3       1990/12/24\n",
       "4       1990/12/25\n",
       "           ...    \n",
       "7719     2022/7/25\n",
       "7720     2022/7/26\n",
       "7721     2022/7/27\n",
       "7722     2022/7/28\n",
       "7723     2022/7/29\n",
       "Name: Day, Length: 7724, dtype: object"
      ]
     },
     "execution_count": 26,
     "metadata": {},
     "output_type": "execute_result"
    }
   ],
   "source": [
    "data['Day']"
   ]
  },
  {
   "cell_type": "code",
   "execution_count": 27,
   "metadata": {},
   "outputs": [
    {
     "data": {
      "text/html": [
       "<div>\n",
       "<style scoped>\n",
       "    .dataframe tbody tr th:only-of-type {\n",
       "        vertical-align: middle;\n",
       "    }\n",
       "\n",
       "    .dataframe tbody tr th {\n",
       "        vertical-align: top;\n",
       "    }\n",
       "\n",
       "    .dataframe thead th {\n",
       "        text-align: right;\n",
       "    }\n",
       "</style>\n",
       "<table border=\"1\" class=\"dataframe\">\n",
       "  <thead>\n",
       "    <tr style=\"text-align: right;\">\n",
       "      <th></th>\n",
       "      <th>Day</th>\n",
       "    </tr>\n",
       "  </thead>\n",
       "  <tbody>\n",
       "    <tr>\n",
       "      <th>0</th>\n",
       "      <td>1990/12/19</td>\n",
       "    </tr>\n",
       "    <tr>\n",
       "      <th>1</th>\n",
       "      <td>1990/12/20</td>\n",
       "    </tr>\n",
       "    <tr>\n",
       "      <th>2</th>\n",
       "      <td>1990/12/21</td>\n",
       "    </tr>\n",
       "    <tr>\n",
       "      <th>3</th>\n",
       "      <td>1990/12/24</td>\n",
       "    </tr>\n",
       "    <tr>\n",
       "      <th>4</th>\n",
       "      <td>1990/12/25</td>\n",
       "    </tr>\n",
       "    <tr>\n",
       "      <th>...</th>\n",
       "      <td>...</td>\n",
       "    </tr>\n",
       "    <tr>\n",
       "      <th>7719</th>\n",
       "      <td>2022/7/25</td>\n",
       "    </tr>\n",
       "    <tr>\n",
       "      <th>7720</th>\n",
       "      <td>2022/7/26</td>\n",
       "    </tr>\n",
       "    <tr>\n",
       "      <th>7721</th>\n",
       "      <td>2022/7/27</td>\n",
       "    </tr>\n",
       "    <tr>\n",
       "      <th>7722</th>\n",
       "      <td>2022/7/28</td>\n",
       "    </tr>\n",
       "    <tr>\n",
       "      <th>7723</th>\n",
       "      <td>2022/7/29</td>\n",
       "    </tr>\n",
       "  </tbody>\n",
       "</table>\n",
       "<p>7724 rows × 1 columns</p>\n",
       "</div>"
      ],
      "text/plain": [
       "             Day\n",
       "0     1990/12/19\n",
       "1     1990/12/20\n",
       "2     1990/12/21\n",
       "3     1990/12/24\n",
       "4     1990/12/25\n",
       "...          ...\n",
       "7719   2022/7/25\n",
       "7720   2022/7/26\n",
       "7721   2022/7/27\n",
       "7722   2022/7/28\n",
       "7723   2022/7/29\n",
       "\n",
       "[7724 rows x 1 columns]"
      ]
     },
     "execution_count": 27,
     "metadata": {},
     "output_type": "execute_result"
    }
   ],
   "source": [
    "data[['Day']]"
   ]
  },
  {
   "cell_type": "code",
   "execution_count": null,
   "metadata": {},
   "outputs": [],
   "source": []
  }
 ],
 "metadata": {
  "kernelspec": {
   "display_name": "base",
   "language": "python",
   "name": "python3"
  },
  "language_info": {
   "codemirror_mode": {
    "name": "ipython",
    "version": 3
   },
   "file_extension": ".py",
   "mimetype": "text/x-python",
   "name": "python",
   "nbconvert_exporter": "python",
   "pygments_lexer": "ipython3",
   "version": "3.11.4"
  },
  "orig_nbformat": 4
 },
 "nbformat": 4,
 "nbformat_minor": 2
}
